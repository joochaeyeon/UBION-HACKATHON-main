{
 "cells": [
  {
   "cell_type": "markdown",
   "id": "f9995b84",
   "metadata": {},
   "source": [
    "# Hackathon : 카드 연체기간 예측 및 경향분석\n",
    "---"
   ]
  },
  {
   "cell_type": "markdown",
   "id": "42c76329",
   "metadata": {},
   "source": [
    "## [Issues]\n",
    "1. ID, Name and SSN (Not useful)\n",
    "2. Age, Annual_Income, Num_of_Loan, Num_of_Delayed_Payment, Changed_Credit_Limit, Amount_invested_monthly, Outstanding_Debt Credit_Mix, Monthly_Balance Numerical but show as catogery (need to be fixed)\n",
    "3. Occupation, CreditMix has value \"__\"\n",
    "4. Data contains outliers\n",
    "5. Num_Credit_Card has zeros\n",
    "6. Type_of_Loan Need to rewrite as 8 columns\n",
    "7. Num_Bank_Accounts contains negative values\n",
    "8. Credit_History_Age,Payment_of_Min_Amount,Payment_Behaviour,'Credit_Mix' (needs Feature Engineering)\n",
    "9. Target Columns is Imbalanced\n",
    "10. A lot of missing data\n"
   ]
  },
  {
   "cell_type": "markdown",
   "metadata": {},
   "source": [
    "# 1. 라이브러리,데이터 import"
   ]
  },
  {
   "cell_type": "code",
   "execution_count": 7,
   "metadata": {
    "scrolled": false
   },
   "outputs": [],
   "source": [
    "# Packages for EDA \n",
    "import matplotlib.pyplot as plt\n",
    "import seaborn as sns \n",
    "import pandas as pd \n",
    "import numpy as np \n",
    "\n",
    "# Data Preprocessing\n",
    "from sklearn.model_selection import train_test_split\n",
    "from sklearn.preprocessing import PowerTransformer\n",
    "from datasist.structdata import detect_outliers\n",
    "from sklearn.metrics import mean_squared_error\n",
    "from imblearn.over_sampling import SMOTE\n",
    "from sklearn.impute import SimpleImputer\n",
    "import category_encoders as ce\n",
    "import re \n",
    "\n",
    "# Modeling and evaluation \n",
    "from sklearn.ensemble import (\n",
    "    BaggingClassifier,\n",
    "    ExtraTreesClassifier,\n",
    "    RandomForestClassifier,\n",
    "    StackingClassifier,\n",
    "    HistGradientBoostingClassifier\n",
    ")\n",
    "from xgboost import XGBClassifier\n",
    "from sklearn.metrics import classification_report \n",
    "# import joblib # 파이프제작 파이프라인\n",
    "\n",
    "# Packages options \n",
    "sns.set(rc={'figure.figsize': [14, 7]}, font_scale=1.2) # Standard figure size for all \n",
    "np.seterr(divide='ignore', invalid='ignore', over='ignore') ;\n",
    "\n",
    "import warnings \n",
    "warnings.filterwarnings(\"ignore\")"
   ]
  },
  {
   "cell_type": "code",
   "execution_count": 9,
   "id": "baa9927b",
   "metadata": {},
   "outputs": [
    {
     "data": {
      "text/html": [
       "<div>\n",
       "<style scoped>\n",
       "    .dataframe tbody tr th:only-of-type {\n",
       "        vertical-align: middle;\n",
       "    }\n",
       "\n",
       "    .dataframe tbody tr th {\n",
       "        vertical-align: top;\n",
       "    }\n",
       "\n",
       "    .dataframe thead th {\n",
       "        text-align: right;\n",
       "    }\n",
       "</style>\n",
       "<table border=\"1\" class=\"dataframe\">\n",
       "  <thead>\n",
       "    <tr style=\"text-align: right;\">\n",
       "      <th></th>\n",
       "      <th>ID</th>\n",
       "      <th>Customer_ID</th>\n",
       "      <th>Month</th>\n",
       "      <th>Name</th>\n",
       "      <th>Age</th>\n",
       "      <th>SSN</th>\n",
       "      <th>Occupation</th>\n",
       "      <th>Annual_Income</th>\n",
       "      <th>Monthly_Inhand_Salary</th>\n",
       "      <th>Num_Bank_Accounts</th>\n",
       "      <th>...</th>\n",
       "      <th>Credit_Mix</th>\n",
       "      <th>Outstanding_Debt</th>\n",
       "      <th>Credit_Utilization_Ratio</th>\n",
       "      <th>Credit_History_Age</th>\n",
       "      <th>Payment_of_Min_Amount</th>\n",
       "      <th>Total_EMI_per_month</th>\n",
       "      <th>Amount_invested_monthly</th>\n",
       "      <th>Payment_Behaviour</th>\n",
       "      <th>Monthly_Balance</th>\n",
       "      <th>Credit_Score</th>\n",
       "    </tr>\n",
       "  </thead>\n",
       "  <tbody>\n",
       "    <tr>\n",
       "      <th>0</th>\n",
       "      <td>0x1602</td>\n",
       "      <td>CUS_0xd40</td>\n",
       "      <td>January</td>\n",
       "      <td>Aaron Maashoh</td>\n",
       "      <td>23</td>\n",
       "      <td>821-00-0265</td>\n",
       "      <td>Scientist</td>\n",
       "      <td>19114.12</td>\n",
       "      <td>1824.843333</td>\n",
       "      <td>3</td>\n",
       "      <td>...</td>\n",
       "      <td>_</td>\n",
       "      <td>809.98</td>\n",
       "      <td>26.822620</td>\n",
       "      <td>22 Years and 1 Months</td>\n",
       "      <td>No</td>\n",
       "      <td>49.574949</td>\n",
       "      <td>80.41529543900253</td>\n",
       "      <td>High_spent_Small_value_payments</td>\n",
       "      <td>312.49408867943663</td>\n",
       "      <td>Good</td>\n",
       "    </tr>\n",
       "    <tr>\n",
       "      <th>1</th>\n",
       "      <td>0x1603</td>\n",
       "      <td>CUS_0xd40</td>\n",
       "      <td>February</td>\n",
       "      <td>Aaron Maashoh</td>\n",
       "      <td>23</td>\n",
       "      <td>821-00-0265</td>\n",
       "      <td>Scientist</td>\n",
       "      <td>19114.12</td>\n",
       "      <td>NaN</td>\n",
       "      <td>3</td>\n",
       "      <td>...</td>\n",
       "      <td>Good</td>\n",
       "      <td>809.98</td>\n",
       "      <td>31.944960</td>\n",
       "      <td>NaN</td>\n",
       "      <td>No</td>\n",
       "      <td>49.574949</td>\n",
       "      <td>118.28022162236736</td>\n",
       "      <td>Low_spent_Large_value_payments</td>\n",
       "      <td>284.62916249607184</td>\n",
       "      <td>Good</td>\n",
       "    </tr>\n",
       "    <tr>\n",
       "      <th>2</th>\n",
       "      <td>0x1604</td>\n",
       "      <td>CUS_0xd40</td>\n",
       "      <td>March</td>\n",
       "      <td>Aaron Maashoh</td>\n",
       "      <td>-500</td>\n",
       "      <td>821-00-0265</td>\n",
       "      <td>Scientist</td>\n",
       "      <td>19114.12</td>\n",
       "      <td>NaN</td>\n",
       "      <td>3</td>\n",
       "      <td>...</td>\n",
       "      <td>Good</td>\n",
       "      <td>809.98</td>\n",
       "      <td>28.609352</td>\n",
       "      <td>22 Years and 3 Months</td>\n",
       "      <td>No</td>\n",
       "      <td>49.574949</td>\n",
       "      <td>81.699521264648</td>\n",
       "      <td>Low_spent_Medium_value_payments</td>\n",
       "      <td>331.2098628537912</td>\n",
       "      <td>Good</td>\n",
       "    </tr>\n",
       "  </tbody>\n",
       "</table>\n",
       "<p>3 rows × 28 columns</p>\n",
       "</div>"
      ],
      "text/plain": [
       "       ID Customer_ID     Month           Name   Age          SSN Occupation  \\\n",
       "0  0x1602   CUS_0xd40   January  Aaron Maashoh    23  821-00-0265  Scientist   \n",
       "1  0x1603   CUS_0xd40  February  Aaron Maashoh    23  821-00-0265  Scientist   \n",
       "2  0x1604   CUS_0xd40     March  Aaron Maashoh  -500  821-00-0265  Scientist   \n",
       "\n",
       "  Annual_Income  Monthly_Inhand_Salary  Num_Bank_Accounts  ...  Credit_Mix  \\\n",
       "0      19114.12            1824.843333                  3  ...           _   \n",
       "1      19114.12                    NaN                  3  ...        Good   \n",
       "2      19114.12                    NaN                  3  ...        Good   \n",
       "\n",
       "   Outstanding_Debt Credit_Utilization_Ratio     Credit_History_Age  \\\n",
       "0            809.98                26.822620  22 Years and 1 Months   \n",
       "1            809.98                31.944960                    NaN   \n",
       "2            809.98                28.609352  22 Years and 3 Months   \n",
       "\n",
       "   Payment_of_Min_Amount Total_EMI_per_month Amount_invested_monthly  \\\n",
       "0                     No           49.574949       80.41529543900253   \n",
       "1                     No           49.574949      118.28022162236736   \n",
       "2                     No           49.574949         81.699521264648   \n",
       "\n",
       "                 Payment_Behaviour     Monthly_Balance Credit_Score  \n",
       "0  High_spent_Small_value_payments  312.49408867943663         Good  \n",
       "1   Low_spent_Large_value_payments  284.62916249607184         Good  \n",
       "2  Low_spent_Medium_value_payments   331.2098628537912         Good  \n",
       "\n",
       "[3 rows x 28 columns]"
      ]
     },
     "execution_count": 9,
     "metadata": {},
     "output_type": "execute_result"
    }
   ],
   "source": [
    "df = pd.read_csv('./csv/train.csv')\n",
    "df.head(3)"
   ]
  },
  {
   "cell_type": "markdown",
   "metadata": {},
   "source": [
    "# 2. Preprocessing"
   ]
  },
  {
   "cell_type": "markdown",
   "metadata": {},
   "source": [
    "결측치 확인 및 imputation"
   ]
  },
  {
   "cell_type": "code",
   "execution_count": 11,
   "metadata": {
    "scrolled": true
   },
   "outputs": [
    {
     "name": "stdout",
     "output_type": "stream",
     "text": [
      "<class 'pandas.core.frame.DataFrame'>\n",
      "RangeIndex: 100000 entries, 0 to 99999\n",
      "Data columns (total 25 columns):\n",
      " #   Column                    Non-Null Count   Dtype  \n",
      "---  ------                    --------------   -----  \n",
      " 0   Customer_ID               100000 non-null  object \n",
      " 1   Month                     100000 non-null  object \n",
      " 2   Age                       100000 non-null  object \n",
      " 3   Occupation                100000 non-null  object \n",
      " 4   Annual_Income             100000 non-null  object \n",
      " 5   Monthly_Inhand_Salary     84998 non-null   float64\n",
      " 6   Num_Bank_Accounts         100000 non-null  int64  \n",
      " 7   Num_Credit_Card           100000 non-null  int64  \n",
      " 8   Interest_Rate             100000 non-null  int64  \n",
      " 9   Num_of_Loan               100000 non-null  object \n",
      " 10  Type_of_Loan              88592 non-null   object \n",
      " 11  Delay_from_due_date       100000 non-null  int64  \n",
      " 12  Num_of_Delayed_Payment    92998 non-null   object \n",
      " 13  Changed_Credit_Limit      100000 non-null  object \n",
      " 14  Num_Credit_Inquiries      98035 non-null   float64\n",
      " 15  Credit_Mix                100000 non-null  object \n",
      " 16  Outstanding_Debt          100000 non-null  object \n",
      " 17  Credit_Utilization_Ratio  100000 non-null  float64\n",
      " 18  Credit_History_Age        90970 non-null   object \n",
      " 19  Payment_of_Min_Amount     100000 non-null  object \n",
      " 20  Total_EMI_per_month       100000 non-null  float64\n",
      " 21  Amount_invested_monthly   95521 non-null   object \n",
      " 22  Payment_Behaviour         100000 non-null  object \n",
      " 23  Monthly_Balance           98800 non-null   object \n",
      " 24  Credit_Score              100000 non-null  object \n",
      "dtypes: float64(4), int64(4), object(17)\n",
      "memory usage: 19.1+ MB\n"
     ]
    }
   ],
   "source": [
    "# X.head(2)\n",
    "df.info() # 여기서 object를 int, float으로 바꿔야함"
   ]
  },
  {
   "cell_type": "markdown",
   "id": "7410a619",
   "metadata": {},
   "source": [
    "## 1 ) 중복컬럼 제외"
   ]
  },
  {
   "cell_type": "code",
   "execution_count": 10,
   "metadata": {},
   "outputs": [],
   "source": [
    "# df.columns\n",
    "df = df.drop([\"ID\", \"Name\", \"SSN\"], axis=1) # 종속변인+중복컬럼 제외\n",
    "\n",
    "# X = StandardScaler().fit_transform(X) <- 정규화는 나중에! 중요도평가할 때 음수값 있으면 안됌"
   ]
  },
  {
   "cell_type": "markdown",
   "id": "f5145f35",
   "metadata": {},
   "source": [
    "## 2 ) 언더바\"_\" 있는 값 처리"
   ]
  },
  {
   "cell_type": "code",
   "execution_count": 12,
   "id": "5d0ce2ec",
   "metadata": {},
   "outputs": [],
   "source": [
    "N_to_fix = ['Age', 'Annual_Income', 'Num_of_Loan', 'Num_of_Delayed_Payment',\n",
    "            'Changed_Credit_Limit', 'Amount_invested_monthly', 'Outstanding_Debt' , 'Monthly_Balance']\n",
    "\n",
    "def fix_nums(num):\n",
    "    try : \n",
    "        return float(num.replace(\"_\",\"\"))\n",
    "    except :\n",
    "        return np.nan\n",
    "    \n",
    "for col in N_to_fix :\n",
    "    df[col] = df[col].apply(fix_nums)"
   ]
  },
  {
   "cell_type": "markdown",
   "id": "71a26daf",
   "metadata": {},
   "source": [
    "## 3 ) 대출유형 컬럼나누기\n",
    "- 모든 대출유형은 서로 다른 9개의 대출의 조합으로 이루어진다.\n",
    "- 그래서 컬럼 9개를 만들어 각 행데이터마다 해당 대출을 갖고있는지에 대해 false(안가짐), true(가짐) 처리.\n",
    "- 위 수행 후 기존 대출유형 컬럼 삭제"
   ]
  },
  {
   "cell_type": "code",
   "execution_count": 13,
   "id": "0f191763",
   "metadata": {},
   "outputs": [
    {
     "data": {
      "text/plain": [
       "Not Specified              1408\n",
       "Credit-Builder Loan        1280\n",
       "Personal Loan              1272\n",
       "Debt Consolidation Loan    1264\n",
       "Student Loan               1240\n",
       "Payday Loan                1200\n",
       "Mortgage Loan              1176\n",
       "Auto Loan                  1152\n",
       "Home Equity Loan           1136\n",
       "Name: Type_of_Loan, dtype: int64"
      ]
     },
     "execution_count": 13,
     "metadata": {},
     "output_type": "execute_result"
    }
   ],
   "source": [
    "# X[\"Type_of_Loan\"].value_counts().sum()\n",
    "df[\"Type_of_Loan\"].value_counts().head(9)"
   ]
  },
  {
   "cell_type": "code",
   "execution_count": 14,
   "id": "dc4ec428",
   "metadata": {},
   "outputs": [],
   "source": [
    "for i in df['Type_of_Loan'].value_counts().head(9).index[1:] : \n",
    "    df[i] = df['Type_of_Loan'].str.contains(i)\n",
    "\n",
    "del df['Type_of_Loan']"
   ]
  },
  {
   "cell_type": "markdown",
   "id": "d6ea9315",
   "metadata": {},
   "source": [
    "## 4 ) 마이너스 값 처리 + 0값 대체(카드,계좌수)"
   ]
  },
  {
   "cell_type": "code",
   "execution_count": 15,
   "id": "6fffab1b",
   "metadata": {},
   "outputs": [
    {
     "data": {
      "text/html": [
       "<div>\n",
       "<style scoped>\n",
       "    .dataframe tbody tr th:only-of-type {\n",
       "        vertical-align: middle;\n",
       "    }\n",
       "\n",
       "    .dataframe tbody tr th {\n",
       "        vertical-align: top;\n",
       "    }\n",
       "\n",
       "    .dataframe thead th {\n",
       "        text-align: right;\n",
       "    }\n",
       "</style>\n",
       "<table border=\"1\" class=\"dataframe\">\n",
       "  <thead>\n",
       "    <tr style=\"text-align: right;\">\n",
       "      <th></th>\n",
       "      <th>Age</th>\n",
       "      <th>Annual_Income</th>\n",
       "      <th>Monthly_Inhand_Salary</th>\n",
       "      <th>Num_Bank_Accounts</th>\n",
       "      <th>Num_Credit_Card</th>\n",
       "      <th>Interest_Rate</th>\n",
       "      <th>Num_of_Loan</th>\n",
       "      <th>Delay_from_due_date</th>\n",
       "      <th>Num_of_Delayed_Payment</th>\n",
       "      <th>Changed_Credit_Limit</th>\n",
       "      <th>Num_Credit_Inquiries</th>\n",
       "      <th>Outstanding_Debt</th>\n",
       "      <th>Credit_Utilization_Ratio</th>\n",
       "      <th>Total_EMI_per_month</th>\n",
       "      <th>Amount_invested_monthly</th>\n",
       "      <th>Monthly_Balance</th>\n",
       "    </tr>\n",
       "  </thead>\n",
       "  <tbody>\n",
       "    <tr>\n",
       "      <th>count</th>\n",
       "      <td>100000.000000</td>\n",
       "      <td>1.000000e+05</td>\n",
       "      <td>84998.000000</td>\n",
       "      <td>100000.000000</td>\n",
       "      <td>100000.00000</td>\n",
       "      <td>100000.000000</td>\n",
       "      <td>100000.000000</td>\n",
       "      <td>100000.000000</td>\n",
       "      <td>92998.000000</td>\n",
       "      <td>97909.000000</td>\n",
       "      <td>98035.000000</td>\n",
       "      <td>100000.000000</td>\n",
       "      <td>100000.000000</td>\n",
       "      <td>100000.000000</td>\n",
       "      <td>95521.000000</td>\n",
       "      <td>9.713200e+04</td>\n",
       "    </tr>\n",
       "    <tr>\n",
       "      <th>mean</th>\n",
       "      <td>110.649700</td>\n",
       "      <td>1.764157e+05</td>\n",
       "      <td>4194.170850</td>\n",
       "      <td>17.091280</td>\n",
       "      <td>22.47443</td>\n",
       "      <td>72.466040</td>\n",
       "      <td>3.009960</td>\n",
       "      <td>21.068780</td>\n",
       "      <td>30.923342</td>\n",
       "      <td>10.389025</td>\n",
       "      <td>27.754251</td>\n",
       "      <td>1426.220376</td>\n",
       "      <td>32.285173</td>\n",
       "      <td>1403.118217</td>\n",
       "      <td>637.412998</td>\n",
       "      <td>-3.088580e+22</td>\n",
       "    </tr>\n",
       "    <tr>\n",
       "      <th>std</th>\n",
       "      <td>686.244717</td>\n",
       "      <td>1.429618e+06</td>\n",
       "      <td>3183.686167</td>\n",
       "      <td>117.404834</td>\n",
       "      <td>129.05741</td>\n",
       "      <td>466.422621</td>\n",
       "      <td>62.647879</td>\n",
       "      <td>14.860104</td>\n",
       "      <td>226.031892</td>\n",
       "      <td>6.789496</td>\n",
       "      <td>193.177339</td>\n",
       "      <td>1155.129026</td>\n",
       "      <td>5.116875</td>\n",
       "      <td>8306.041270</td>\n",
       "      <td>2043.319327</td>\n",
       "      <td>3.208492e+24</td>\n",
       "    </tr>\n",
       "    <tr>\n",
       "      <th>min</th>\n",
       "      <td>-500.000000</td>\n",
       "      <td>7.005930e+03</td>\n",
       "      <td>303.645417</td>\n",
       "      <td>-1.000000</td>\n",
       "      <td>0.00000</td>\n",
       "      <td>1.000000</td>\n",
       "      <td>-100.000000</td>\n",
       "      <td>-5.000000</td>\n",
       "      <td>-3.000000</td>\n",
       "      <td>-6.490000</td>\n",
       "      <td>0.000000</td>\n",
       "      <td>0.230000</td>\n",
       "      <td>20.000000</td>\n",
       "      <td>0.000000</td>\n",
       "      <td>0.000000</td>\n",
       "      <td>-3.333333e+26</td>\n",
       "    </tr>\n",
       "    <tr>\n",
       "      <th>25%</th>\n",
       "      <td>24.000000</td>\n",
       "      <td>1.945750e+04</td>\n",
       "      <td>1625.568229</td>\n",
       "      <td>3.000000</td>\n",
       "      <td>4.00000</td>\n",
       "      <td>8.000000</td>\n",
       "      <td>1.000000</td>\n",
       "      <td>10.000000</td>\n",
       "      <td>9.000000</td>\n",
       "      <td>5.320000</td>\n",
       "      <td>3.000000</td>\n",
       "      <td>566.072500</td>\n",
       "      <td>28.052567</td>\n",
       "      <td>30.306660</td>\n",
       "      <td>74.534002</td>\n",
       "      <td>2.699858e+02</td>\n",
       "    </tr>\n",
       "    <tr>\n",
       "      <th>50%</th>\n",
       "      <td>33.000000</td>\n",
       "      <td>3.757861e+04</td>\n",
       "      <td>3093.745000</td>\n",
       "      <td>6.000000</td>\n",
       "      <td>5.00000</td>\n",
       "      <td>13.000000</td>\n",
       "      <td>3.000000</td>\n",
       "      <td>18.000000</td>\n",
       "      <td>14.000000</td>\n",
       "      <td>9.400000</td>\n",
       "      <td>6.000000</td>\n",
       "      <td>1166.155000</td>\n",
       "      <td>32.305784</td>\n",
       "      <td>69.249473</td>\n",
       "      <td>135.925682</td>\n",
       "      <td>3.364493e+02</td>\n",
       "    </tr>\n",
       "    <tr>\n",
       "      <th>75%</th>\n",
       "      <td>42.000000</td>\n",
       "      <td>7.279092e+04</td>\n",
       "      <td>5957.448333</td>\n",
       "      <td>7.000000</td>\n",
       "      <td>7.00000</td>\n",
       "      <td>20.000000</td>\n",
       "      <td>5.000000</td>\n",
       "      <td>28.000000</td>\n",
       "      <td>18.000000</td>\n",
       "      <td>14.870000</td>\n",
       "      <td>9.000000</td>\n",
       "      <td>1945.962500</td>\n",
       "      <td>36.496663</td>\n",
       "      <td>161.224249</td>\n",
       "      <td>265.731733</td>\n",
       "      <td>4.696405e+02</td>\n",
       "    </tr>\n",
       "    <tr>\n",
       "      <th>max</th>\n",
       "      <td>8698.000000</td>\n",
       "      <td>2.419806e+07</td>\n",
       "      <td>15204.633333</td>\n",
       "      <td>1798.000000</td>\n",
       "      <td>1499.00000</td>\n",
       "      <td>5797.000000</td>\n",
       "      <td>1496.000000</td>\n",
       "      <td>67.000000</td>\n",
       "      <td>4397.000000</td>\n",
       "      <td>36.970000</td>\n",
       "      <td>2597.000000</td>\n",
       "      <td>4998.070000</td>\n",
       "      <td>50.000000</td>\n",
       "      <td>82331.000000</td>\n",
       "      <td>10000.000000</td>\n",
       "      <td>1.602041e+03</td>\n",
       "    </tr>\n",
       "  </tbody>\n",
       "</table>\n",
       "</div>"
      ],
      "text/plain": [
       "                 Age  Annual_Income  Monthly_Inhand_Salary  Num_Bank_Accounts  \\\n",
       "count  100000.000000   1.000000e+05           84998.000000      100000.000000   \n",
       "mean      110.649700   1.764157e+05            4194.170850          17.091280   \n",
       "std       686.244717   1.429618e+06            3183.686167         117.404834   \n",
       "min      -500.000000   7.005930e+03             303.645417          -1.000000   \n",
       "25%        24.000000   1.945750e+04            1625.568229           3.000000   \n",
       "50%        33.000000   3.757861e+04            3093.745000           6.000000   \n",
       "75%        42.000000   7.279092e+04            5957.448333           7.000000   \n",
       "max      8698.000000   2.419806e+07           15204.633333        1798.000000   \n",
       "\n",
       "       Num_Credit_Card  Interest_Rate    Num_of_Loan  Delay_from_due_date  \\\n",
       "count     100000.00000  100000.000000  100000.000000        100000.000000   \n",
       "mean          22.47443      72.466040       3.009960            21.068780   \n",
       "std          129.05741     466.422621      62.647879            14.860104   \n",
       "min            0.00000       1.000000    -100.000000            -5.000000   \n",
       "25%            4.00000       8.000000       1.000000            10.000000   \n",
       "50%            5.00000      13.000000       3.000000            18.000000   \n",
       "75%            7.00000      20.000000       5.000000            28.000000   \n",
       "max         1499.00000    5797.000000    1496.000000            67.000000   \n",
       "\n",
       "       Num_of_Delayed_Payment  Changed_Credit_Limit  Num_Credit_Inquiries  \\\n",
       "count            92998.000000          97909.000000          98035.000000   \n",
       "mean                30.923342             10.389025             27.754251   \n",
       "std                226.031892              6.789496            193.177339   \n",
       "min                 -3.000000             -6.490000              0.000000   \n",
       "25%                  9.000000              5.320000              3.000000   \n",
       "50%                 14.000000              9.400000              6.000000   \n",
       "75%                 18.000000             14.870000              9.000000   \n",
       "max               4397.000000             36.970000           2597.000000   \n",
       "\n",
       "       Outstanding_Debt  Credit_Utilization_Ratio  Total_EMI_per_month  \\\n",
       "count     100000.000000             100000.000000        100000.000000   \n",
       "mean        1426.220376                 32.285173          1403.118217   \n",
       "std         1155.129026                  5.116875          8306.041270   \n",
       "min            0.230000                 20.000000             0.000000   \n",
       "25%          566.072500                 28.052567            30.306660   \n",
       "50%         1166.155000                 32.305784            69.249473   \n",
       "75%         1945.962500                 36.496663           161.224249   \n",
       "max         4998.070000                 50.000000         82331.000000   \n",
       "\n",
       "       Amount_invested_monthly  Monthly_Balance  \n",
       "count             95521.000000     9.713200e+04  \n",
       "mean                637.412998    -3.088580e+22  \n",
       "std                2043.319327     3.208492e+24  \n",
       "min                   0.000000    -3.333333e+26  \n",
       "25%                  74.534002     2.699858e+02  \n",
       "50%                 135.925682     3.364493e+02  \n",
       "75%                 265.731733     4.696405e+02  \n",
       "max               10000.000000     1.602041e+03  "
      ]
     },
     "execution_count": 15,
     "metadata": {},
     "output_type": "execute_result"
    }
   ],
   "source": [
    "df.describe()\n",
    "# min값에 Num_Bank_Accounts만 음수임. 음수 존재.\n",
    "# Num_Credit_Card가 0 일 수 없음 -> 최소 1개이니 0을 1로 대체"
   ]
  },
  {
   "cell_type": "code",
   "execution_count": 16,
   "id": "7ac42d4c",
   "metadata": {},
   "outputs": [
    {
     "data": {
      "text/plain": [
       "count    100000.000000\n",
       "mean         17.091700\n",
       "std         117.404773\n",
       "min           0.000000\n",
       "25%           3.000000\n",
       "50%           6.000000\n",
       "75%           7.000000\n",
       "max        1798.000000\n",
       "Name: Num_Bank_Accounts, dtype: float64"
      ]
     },
     "execution_count": 16,
     "metadata": {},
     "output_type": "execute_result"
    }
   ],
   "source": [
    "df['Num_Bank_Accounts'] = df['Num_Bank_Accounts'].apply(lambda x :abs (x)) #절댓값으로 변환\n",
    "df['Num_Bank_Accounts'].describe()"
   ]
  },
  {
   "cell_type": "code",
   "execution_count": null,
   "id": "6297e274",
   "metadata": {},
   "outputs": [],
   "source": [
    "# 은행, 카드 갯수 0을 1개로\n",
    "df['Num_Bank_Accounts'].replace(0,1,inplace=True)\n",
    "df['Num_Credit_Card'].replace(0,1,inplace=True)"
   ]
  },
  {
   "cell_type": "markdown",
   "id": "9f62b08e",
   "metadata": {},
   "source": [
    "## 5 ) 결측치 처리"
   ]
  },
  {
   "cell_type": "markdown",
   "id": "6949615c",
   "metadata": {},
   "source": [
    "년을 월로 계산 : 'Credit_History_Age' 컬럼"
   ]
  },
  {
   "cell_type": "code",
   "execution_count": 12,
   "id": "28e1030b",
   "metadata": {},
   "outputs": [],
   "source": [
    "def History_age(age):\n",
    "    try : \n",
    "        years = int(\"\".join(re.findall('[0-9]',''.join(age.split(\"and\")[0]))))\n",
    "        month = int(\"\".join(re.findall('[0-9]',''.join(age.split(\"and\")[1]))))\n",
    "        return years*12 + month\n",
    "    except :\n",
    "        return np.nan\n",
    "    \n",
    "df['Credit_History_Age'] = df['Credit_History_Age'].apply(History_age)\n"
   ]
  },
  {
   "cell_type": "markdown",
   "id": "911972f9",
   "metadata": {},
   "source": [
    "### 결측치 대체(replace)"
   ]
  },
  {
   "cell_type": "markdown",
   "id": "ffe65be0",
   "metadata": {},
   "source": [
    "\"Payment_of_Min_Amount\" 결측치 처리"
   ]
  },
  {
   "cell_type": "code",
   "execution_count": 13,
   "id": "6229ecac",
   "metadata": {},
   "outputs": [
    {
     "data": {
      "text/plain": [
       "Yes    52326\n",
       "No     35667\n",
       "NM     12007\n",
       "Name: Payment_of_Min_Amount, dtype: int64"
      ]
     },
     "execution_count": 13,
     "metadata": {},
     "output_type": "execute_result"
    }
   ],
   "source": [
    "df['Payment_of_Min_Amount'].value_counts()"
   ]
  },
  {
   "cell_type": "code",
   "execution_count": 14,
   "id": "23f1c61e",
   "metadata": {},
   "outputs": [
    {
     "data": {
      "text/plain": [
       "Yes    52326\n",
       "No     47674\n",
       "Name: Payment_of_Min_Amount, dtype: int64"
      ]
     },
     "execution_count": 14,
     "metadata": {},
     "output_type": "execute_result"
    }
   ],
   "source": [
    "df['Payment_of_Min_Amount'].replace(\"NM\",\"No\",inplace=True)\n",
    "df['Payment_of_Min_Amount'].value_counts()"
   ]
  },
  {
   "cell_type": "markdown",
   "id": "c5714e62",
   "metadata": {},
   "source": [
    "\"Payment_Behaviour\" 결측치 처리"
   ]
  },
  {
   "cell_type": "code",
   "execution_count": 15,
   "id": "5ba3f951",
   "metadata": {},
   "outputs": [
    {
     "data": {
      "text/plain": [
       "Low_spent_Small_value_payments      25513\n",
       "High_spent_Medium_value_payments    17540\n",
       "Low_spent_Medium_value_payments     13861\n",
       "High_spent_Large_value_payments     13721\n",
       "High_spent_Small_value_payments     11340\n",
       "Low_spent_Large_value_payments      10425\n",
       "!@9#%8                               7600\n",
       "Name: Payment_Behaviour, dtype: int64"
      ]
     },
     "execution_count": 15,
     "metadata": {},
     "output_type": "execute_result"
    }
   ],
   "source": [
    "df['Payment_Behaviour'].value_counts()\n",
    "# 결측치 존재 -> \"!@9#%8\""
   ]
  },
  {
   "cell_type": "code",
   "execution_count": 16,
   "id": "d387ea1f",
   "metadata": {},
   "outputs": [
    {
     "data": {
      "text/plain": [
       "Low_spent_Small_value_payments      25513\n",
       "High_spent_Medium_value_payments    17540\n",
       "Low_spent_Medium_value_payments     13861\n",
       "High_spent_Large_value_payments     13721\n",
       "High_spent_Small_value_payments     11340\n",
       "Low_spent_Large_value_payments      10425\n",
       "Name: Payment_Behaviour, dtype: int64"
      ]
     },
     "execution_count": 16,
     "metadata": {},
     "output_type": "execute_result"
    }
   ],
   "source": [
    "df['Payment_Behaviour']= df['Payment_Behaviour'].replace(\"!@9#%8\",np.nan) # 결측치 처리\n",
    "df['Payment_Behaviour'].value_counts()"
   ]
  },
  {
   "cell_type": "markdown",
   "id": "2a3efa30",
   "metadata": {},
   "source": [
    "### 결측치 대체 : 같은사람(customer id) 데이터 중 결측치가 없는 데이터로 대체"
   ]
  },
  {
   "cell_type": "markdown",
   "id": "924a1b42",
   "metadata": {},
   "source": [
    "\"Occupation\" 결측치 처리 : \"_______\""
   ]
  },
  {
   "cell_type": "code",
   "execution_count": 17,
   "id": "87f7c5c0",
   "metadata": {},
   "outputs": [
    {
     "data": {
      "text/plain": [
       "_______          7062\n",
       "Lawyer           6575\n",
       "Architect        6355\n",
       "Engineer         6350\n",
       "Scientist        6299\n",
       "Mechanic         6291\n",
       "Accountant       6271\n",
       "Developer        6235\n",
       "Media_Manager    6232\n",
       "Teacher          6215\n",
       "Entrepreneur     6174\n",
       "Doctor           6087\n",
       "Journalist       6085\n",
       "Manager          5973\n",
       "Musician         5911\n",
       "Writer           5885\n",
       "Name: Occupation, dtype: int64"
      ]
     },
     "execution_count": 17,
     "metadata": {},
     "output_type": "execute_result"
    }
   ],
   "source": [
    "df['Occupation'].value_counts() # _______ 값 존재."
   ]
  },
  {
   "cell_type": "markdown",
   "id": "fe2460a5",
   "metadata": {},
   "source": [
    "결측치 대체 : 같은사람(customer id) 데이터 중 결측치가 없는 데이터로 대체"
   ]
  },
  {
   "cell_type": "code",
   "execution_count": 18,
   "id": "25d9113a",
   "metadata": {},
   "outputs": [
    {
     "data": {
      "text/plain": [
       "Index(['Lawyer', 'Architect', 'Engineer', 'Scientist', 'Mechanic',\n",
       "       'Accountant', 'Developer', 'Media_Manager', 'Teacher', 'Entrepreneur',\n",
       "       'Doctor', 'Journalist', 'Manager', 'Musician', 'Writer'],\n",
       "      dtype='object')"
      ]
     },
     "execution_count": 18,
     "metadata": {},
     "output_type": "execute_result"
    }
   ],
   "source": [
    "occs = df['Occupation'].value_counts().index[1:]\n",
    "occs"
   ]
  },
  {
   "cell_type": "code",
   "execution_count": 19,
   "id": "19457597",
   "metadata": {},
   "outputs": [],
   "source": [
    "# 직업이 _____로 되어있는 칸이 있어서 같은 사람의 직업 데이터로 대체시켜준다.\n",
    "for ID in df[df['Occupation'] == \"_______\"]['Customer_ID'] : \n",
    "    oc = df[df['Customer_ID'] == ID]['Occupation'].mode()[0]\n",
    "    df[df['Customer_ID'] == ID] = df[df['Customer_ID'] == ID].replace(\"_______\",oc)"
   ]
  },
  {
   "cell_type": "code",
   "execution_count": 20,
   "id": "d8da6914",
   "metadata": {},
   "outputs": [
    {
     "data": {
      "text/plain": [
       "Lawyer           7096\n",
       "Engineer         6864\n",
       "Architect        6824\n",
       "Mechanic         6776\n",
       "Scientist        6744\n",
       "Accountant       6744\n",
       "Developer        6720\n",
       "Media_Manager    6715\n",
       "Teacher          6672\n",
       "Entrepreneur     6648\n",
       "Doctor           6568\n",
       "Journalist       6536\n",
       "Manager          6432\n",
       "Musician         6352\n",
       "Writer           6304\n",
       "_______             5\n",
       "Name: Occupation, dtype: int64"
      ]
     },
     "execution_count": 20,
     "metadata": {},
     "output_type": "execute_result"
    }
   ],
   "source": [
    "df['Occupation'].value_counts()\n",
    "# 대체 시켜줄 데이터가 없는 행이 5개 존재하기에 아래 코드 진행."
   ]
  },
  {
   "cell_type": "code",
   "execution_count": 21,
   "id": "ff0aeb06",
   "metadata": {},
   "outputs": [
    {
     "data": {
      "text/plain": [
       "Lawyer           7101\n",
       "Engineer         6864\n",
       "Architect        6824\n",
       "Mechanic         6776\n",
       "Scientist        6744\n",
       "Accountant       6744\n",
       "Developer        6720\n",
       "Media_Manager    6715\n",
       "Teacher          6672\n",
       "Entrepreneur     6648\n",
       "Doctor           6568\n",
       "Journalist       6536\n",
       "Manager          6432\n",
       "Musician         6352\n",
       "Writer           6304\n",
       "Name: Occupation, dtype: int64"
      ]
     },
     "execution_count": 21,
     "metadata": {},
     "output_type": "execute_result"
    }
   ],
   "source": [
    "df['Occupation'] = df['Occupation'].replace(\"_______\",df['Occupation'].mode()[0])\n",
    "df['Occupation'].value_counts()\n",
    "# \"______\" 대체, 제거 완료."
   ]
  },
  {
   "cell_type": "markdown",
   "id": "1a969fa6",
   "metadata": {},
   "source": [
    "'Credit_Mix' 결측치 처리 : 대체 + 카테고리화"
   ]
  },
  {
   "cell_type": "code",
   "execution_count": 22,
   "id": "cc8a4e35",
   "metadata": {},
   "outputs": [
    {
     "data": {
      "text/plain": [
       "Standard    36479\n",
       "Good        24337\n",
       "_           20195\n",
       "Bad         18989\n",
       "Name: Credit_Mix, dtype: int64"
      ]
     },
     "execution_count": 22,
     "metadata": {},
     "output_type": "execute_result"
    }
   ],
   "source": [
    "df['Credit_Mix'].value_counts() # _ 존재. np로 처리."
   ]
  },
  {
   "cell_type": "code",
   "execution_count": 23,
   "id": "3ccc0697",
   "metadata": {},
   "outputs": [],
   "source": [
    "m = {\n",
    "    \"Bad\":0,\n",
    "    \"Standard\":1,\n",
    "    \"Good\":2,\n",
    "    \"_\":np.nan\n",
    "}\n",
    "\n",
    "df['Credit_Mix'] = df['Credit_Mix'].map(m)"
   ]
  },
  {
   "cell_type": "code",
   "execution_count": 24,
   "id": "cec3caf0",
   "metadata": {},
   "outputs": [
    {
     "data": {
      "text/plain": [
       "1.0    36479\n",
       "2.0    24337\n",
       "0.0    18989\n",
       "Name: Credit_Mix, dtype: int64"
      ]
     },
     "execution_count": 24,
     "metadata": {},
     "output_type": "execute_result"
    }
   ],
   "source": [
    "df['Credit_Mix'].value_counts()"
   ]
  },
  {
   "cell_type": "markdown",
   "id": "09d6e4af",
   "metadata": {},
   "source": [
    "### 이상치 처리\n",
    "기준치를 넘는 데이터는 np로 처리하여 이후 Imputer를 통해 같은 사람의 결측치가 없는 데이터로 대체될 수 있도록 한다."
   ]
  },
  {
   "cell_type": "code",
   "execution_count": null,
   "id": "88963078",
   "metadata": {},
   "outputs": [],
   "source": [
    "import numpy as np\n",
    "for i in range(len(df[\"Num_of_Loan\"])):\n",
    "    if df[\"Num_of_Loan\"][i] >= 10 :\n",
    "        df[\"Num_of_Loan\"][i] = np.nan\n",
    "    else:\n",
    "        pass\n",
    "\n",
    "for i in range(len(df[\"Interest_Rate\"])):\n",
    "    if df[\"Interest_Rate\"][i] >= 150 :\n",
    "        df[\"Interest_Rate\"][i] = np.nan\n",
    "    else:\n",
    "        pass\n",
    "\n",
    "for i in range(len(df[\"Num_Bank_Accounts\"])):\n",
    "    if df[\"Num_Bank_Accounts\"][i] >= 20 :\n",
    "        df[\"Num_Bank_Accounts\"][i] = np.nan\n",
    "    else:\n",
    "        pass\n",
    "\n",
    "for i in range(len(df[\"Num_Credit_Card\"])):\n",
    "    if df[\"Num_Credit_Card\"][i] >= 20 :\n",
    "        df[\"Num_Credit_Card\"][i] = np.nan\n",
    "    else:\n",
    "        pass"
   ]
  },
  {
   "cell_type": "markdown",
   "id": "66a99872",
   "metadata": {},
   "source": [
    "### *이상치 및 결측치 대체(KNNImputer)\n",
    "Missing Data를 같은 사람의 다른 데이터 평균 값으로 대체해주기(수치형, 스트링형 따로)"
   ]
  },
  {
   "cell_type": "code",
   "execution_count": 25,
   "id": "ce58f70c",
   "metadata": {},
   "outputs": [],
   "source": [
    "# Edit Columns from bool to int \n",
    "for col in list(df.columns[-8:]):\n",
    "    df[col] = df[col].astype(float)\n",
    "    \n",
    "# 각 고객ID를 숫자(1~)로 변경\n",
    "IDs = 1 \n",
    "for ID in df['Customer_ID'].unique() :\n",
    "    df['Customer_ID'] = df['Customer_ID'].replace(ID,IDs)\n",
    "    IDs += 1"
   ]
  },
  {
   "cell_type": "code",
   "execution_count": 168,
   "id": "4cee52d6",
   "metadata": {},
   "outputs": [
    {
     "data": {
      "text/plain": [
       "Index(['Age', 'Annual_Income', 'Monthly_Inhand_Salary', 'Num_Bank_Accounts',\n",
       "       'Num_Credit_Card', 'Interest_Rate', 'Num_of_Loan',\n",
       "       'Delay_from_due_date', 'Num_of_Delayed_Payment', 'Changed_Credit_Limit',\n",
       "       'Num_Credit_Inquiries', 'Credit_Mix', 'Outstanding_Debt',\n",
       "       'Credit_Utilization_Ratio', 'Credit_History_Age', 'Total_EMI_per_month',\n",
       "       'Amount_invested_monthly', 'Monthly_Balance', 'Credit-Builder Loan',\n",
       "       'Personal Loan', 'Debt Consolidation Loan', 'Student Loan',\n",
       "       'Payday Loan', 'Mortgage Loan', 'Auto Loan', 'Home Equity Loan'],\n",
       "      dtype='object')"
      ]
     },
     "execution_count": 168,
     "metadata": {},
     "output_type": "execute_result"
    }
   ],
   "source": [
    "# KNNImputer를 사용하여 결측치를 근처에 있는 값의 평균으로 대체.(같은 사람 데이터 중)\n",
    "from sklearn.impute import KNNImputer\n",
    "imputer = KNNImputer(n_neighbors=1)\n",
    "\n",
    "## 먼저 수치형 데이터 먼저\n",
    "Numericals = df.select_dtypes(exclude='object').columns[1:]\n",
    "Numericals"
   ]
  },
  {
   "cell_type": "markdown",
   "id": "36fabec3",
   "metadata": {},
   "source": [
    "> imputer code. 시간소요 큼"
   ]
  },
  {
   "cell_type": "code",
   "execution_count": 169,
   "id": "c59af255",
   "metadata": {},
   "outputs": [
    {
     "name": "stdout",
     "output_type": "stream",
     "text": [
      "<class 'pandas.core.frame.DataFrame'>\n",
      "RangeIndex: 100000 entries, 0 to 99999\n",
      "Data columns (total 32 columns):\n",
      " #   Column                    Non-Null Count   Dtype  \n",
      "---  ------                    --------------   -----  \n",
      " 0   Customer_ID               100000 non-null  float64\n",
      " 1   Month                     100000 non-null  object \n",
      " 2   Age                       100000 non-null  float64\n",
      " 3   Occupation                100000 non-null  object \n",
      " 4   Annual_Income             100000 non-null  float64\n",
      " 5   Monthly_Inhand_Salary     100000 non-null  float64\n",
      " 6   Num_Bank_Accounts         100000 non-null  float64\n",
      " 7   Num_Credit_Card           100000 non-null  float64\n",
      " 8   Interest_Rate             100000 non-null  float64\n",
      " 9   Num_of_Loan               100000 non-null  float64\n",
      " 10  Delay_from_due_date       100000 non-null  float64\n",
      " 11  Num_of_Delayed_Payment    100000 non-null  float64\n",
      " 12  Changed_Credit_Limit      100000 non-null  float64\n",
      " 13  Num_Credit_Inquiries      100000 non-null  float64\n",
      " 14  Credit_Mix                100000 non-null  float64\n",
      " 15  Outstanding_Debt          100000 non-null  float64\n",
      " 16  Credit_Utilization_Ratio  100000 non-null  float64\n",
      " 17  Credit_History_Age        100000 non-null  float64\n",
      " 18  Payment_of_Min_Amount     100000 non-null  object \n",
      " 19  Total_EMI_per_month       100000 non-null  float64\n",
      " 20  Amount_invested_monthly   100000 non-null  float64\n",
      " 21  Payment_Behaviour         92400 non-null   object \n",
      " 22  Monthly_Balance           100000 non-null  float64\n",
      " 23  Credit_Score              100000 non-null  object \n",
      " 24  Credit-Builder Loan       100000 non-null  float64\n",
      " 25  Personal Loan             100000 non-null  float64\n",
      " 26  Debt Consolidation Loan   100000 non-null  float64\n",
      " 27  Student Loan              100000 non-null  float64\n",
      " 28  Payday Loan               100000 non-null  float64\n",
      " 29  Mortgage Loan             100000 non-null  float64\n",
      " 30  Auto Loan                 100000 non-null  float64\n",
      " 31  Home Equity Loan          100000 non-null  float64\n",
      "dtypes: float64(27), object(5)\n",
      "memory usage: 24.4+ MB\n"
     ]
    }
   ],
   "source": [
    "for col in Numericals[1:]:\n",
    "    imputer.fit(df[['Customer_ID',col]])\n",
    "    df[['Customer_ID',col]] = imputer.transform(df[['Customer_ID',col]])\n",
    "\n",
    "df.info()\n",
    "\n",
    "# Customer_ID 이용해서 다른 값들 대체했기에 이제 쓸모가 없어서 열 삭제!\n",
    "del df['Customer_ID']"
   ]
  },
  {
   "cell_type": "code",
   "execution_count": 170,
   "id": "34bb98b2",
   "metadata": {},
   "outputs": [],
   "source": [
    "## 수치형 다음으로 string\n",
    "## \"most_frequent\"도 대체해주기.\n",
    "\n",
    "imputer = SimpleImputer(strategy=\"most_frequent\")\n",
    "imputer.fit(df[['Payment_Behaviour']])\n",
    "df[['Payment_Behaviour']] = imputer.transform(df[['Payment_Behaviour']])"
   ]
  },
  {
   "cell_type": "markdown",
   "id": "d23a8471",
   "metadata": {},
   "source": [
    "# 3. Outliers 처리\n",
    "지나치게 작거나 많은 Outliers 처리"
   ]
  },
  {
   "cell_type": "code",
   "execution_count": 171,
   "id": "60b8b4ef",
   "metadata": {},
   "outputs": [],
   "source": [
    "## replace Outliers with median \n",
    "from datasist.structdata import detect_outliers\n",
    "\n",
    "Numericals_out = ['Age', 'Annual_Income', 'Monthly_Inhand_Salary',\n",
    "       'Interest_Rate', 'Delay_from_due_date', 'Num_of_Delayed_Payment', 'Changed_Credit_Limit',\n",
    "       'Num_Credit_Inquiries', 'Credit_Mix', 'Outstanding_Debt',\n",
    "       'Credit_Utilization_Ratio', 'Credit_History_Age',\n",
    "       'Amount_invested_monthly', 'Monthly_Balance', 'Credit-Builder Loan',\n",
    "       'Personal Loan', 'Debt Consolidation Loan', 'Student Loan',\n",
    "       'Payday Loan', 'Mortgage Loan', 'Auto Loan', 'Home Equity Loan']\n",
    "\n",
    "for col in Numericals_out :\n",
    "    outliers_indecies = detect_outliers(df,0,[col])\n",
    "    median = df[col].median()\n",
    "    df[col].iloc[outliers_indecies] = median"
   ]
  },
  {
   "cell_type": "markdown",
   "id": "9a04c1f9",
   "metadata": {},
   "source": [
    "# 4. 범주형데이터 처리"
   ]
  },
  {
   "cell_type": "markdown",
   "id": "39b0d272",
   "metadata": {},
   "source": [
    "**범주형(str)데이터 찾아서 수치로 바꾸어주기 - getdummies**"
   ]
  },
  {
   "cell_type": "code",
   "execution_count": 172,
   "id": "1dc00758",
   "metadata": {},
   "outputs": [
    {
     "data": {
      "text/html": [
       "<div>\n",
       "<style scoped>\n",
       "    .dataframe tbody tr th:only-of-type {\n",
       "        vertical-align: middle;\n",
       "    }\n",
       "\n",
       "    .dataframe tbody tr th {\n",
       "        vertical-align: top;\n",
       "    }\n",
       "\n",
       "    .dataframe thead th {\n",
       "        text-align: right;\n",
       "    }\n",
       "</style>\n",
       "<table border=\"1\" class=\"dataframe\">\n",
       "  <thead>\n",
       "    <tr style=\"text-align: right;\">\n",
       "      <th></th>\n",
       "      <th>Month</th>\n",
       "      <th>Occupation</th>\n",
       "      <th>Payment_of_Min_Amount</th>\n",
       "      <th>Payment_Behaviour</th>\n",
       "      <th>Credit_Score</th>\n",
       "    </tr>\n",
       "  </thead>\n",
       "  <tbody>\n",
       "    <tr>\n",
       "      <th>0</th>\n",
       "      <td>January</td>\n",
       "      <td>Scientist</td>\n",
       "      <td>No</td>\n",
       "      <td>High_spent_Small_value_payments</td>\n",
       "      <td>Good</td>\n",
       "    </tr>\n",
       "    <tr>\n",
       "      <th>1</th>\n",
       "      <td>February</td>\n",
       "      <td>Scientist</td>\n",
       "      <td>No</td>\n",
       "      <td>Low_spent_Large_value_payments</td>\n",
       "      <td>Good</td>\n",
       "    </tr>\n",
       "    <tr>\n",
       "      <th>2</th>\n",
       "      <td>March</td>\n",
       "      <td>Scientist</td>\n",
       "      <td>No</td>\n",
       "      <td>Low_spent_Medium_value_payments</td>\n",
       "      <td>Good</td>\n",
       "    </tr>\n",
       "    <tr>\n",
       "      <th>3</th>\n",
       "      <td>April</td>\n",
       "      <td>Scientist</td>\n",
       "      <td>No</td>\n",
       "      <td>Low_spent_Small_value_payments</td>\n",
       "      <td>Good</td>\n",
       "    </tr>\n",
       "    <tr>\n",
       "      <th>4</th>\n",
       "      <td>May</td>\n",
       "      <td>Scientist</td>\n",
       "      <td>No</td>\n",
       "      <td>High_spent_Medium_value_payments</td>\n",
       "      <td>Good</td>\n",
       "    </tr>\n",
       "    <tr>\n",
       "      <th>...</th>\n",
       "      <td>...</td>\n",
       "      <td>...</td>\n",
       "      <td>...</td>\n",
       "      <td>...</td>\n",
       "      <td>...</td>\n",
       "    </tr>\n",
       "    <tr>\n",
       "      <th>99995</th>\n",
       "      <td>April</td>\n",
       "      <td>Mechanic</td>\n",
       "      <td>No</td>\n",
       "      <td>High_spent_Large_value_payments</td>\n",
       "      <td>Poor</td>\n",
       "    </tr>\n",
       "    <tr>\n",
       "      <th>99996</th>\n",
       "      <td>May</td>\n",
       "      <td>Mechanic</td>\n",
       "      <td>No</td>\n",
       "      <td>High_spent_Medium_value_payments</td>\n",
       "      <td>Poor</td>\n",
       "    </tr>\n",
       "    <tr>\n",
       "      <th>99997</th>\n",
       "      <td>June</td>\n",
       "      <td>Mechanic</td>\n",
       "      <td>No</td>\n",
       "      <td>High_spent_Large_value_payments</td>\n",
       "      <td>Poor</td>\n",
       "    </tr>\n",
       "    <tr>\n",
       "      <th>99998</th>\n",
       "      <td>July</td>\n",
       "      <td>Mechanic</td>\n",
       "      <td>No</td>\n",
       "      <td>Low_spent_Large_value_payments</td>\n",
       "      <td>Standard</td>\n",
       "    </tr>\n",
       "    <tr>\n",
       "      <th>99999</th>\n",
       "      <td>August</td>\n",
       "      <td>Mechanic</td>\n",
       "      <td>No</td>\n",
       "      <td>Low_spent_Small_value_payments</td>\n",
       "      <td>Poor</td>\n",
       "    </tr>\n",
       "  </tbody>\n",
       "</table>\n",
       "<p>100000 rows × 5 columns</p>\n",
       "</div>"
      ],
      "text/plain": [
       "          Month Occupation Payment_of_Min_Amount  \\\n",
       "0       January  Scientist                    No   \n",
       "1      February  Scientist                    No   \n",
       "2         March  Scientist                    No   \n",
       "3         April  Scientist                    No   \n",
       "4           May  Scientist                    No   \n",
       "...         ...        ...                   ...   \n",
       "99995     April   Mechanic                    No   \n",
       "99996       May   Mechanic                    No   \n",
       "99997      June   Mechanic                    No   \n",
       "99998      July   Mechanic                    No   \n",
       "99999    August   Mechanic                    No   \n",
       "\n",
       "                      Payment_Behaviour Credit_Score  \n",
       "0       High_spent_Small_value_payments         Good  \n",
       "1        Low_spent_Large_value_payments         Good  \n",
       "2       Low_spent_Medium_value_payments         Good  \n",
       "3        Low_spent_Small_value_payments         Good  \n",
       "4      High_spent_Medium_value_payments         Good  \n",
       "...                                 ...          ...  \n",
       "99995   High_spent_Large_value_payments         Poor  \n",
       "99996  High_spent_Medium_value_payments         Poor  \n",
       "99997   High_spent_Large_value_payments         Poor  \n",
       "99998    Low_spent_Large_value_payments     Standard  \n",
       "99999    Low_spent_Small_value_payments         Poor  \n",
       "\n",
       "[100000 rows x 5 columns]"
      ]
     },
     "execution_count": 172,
     "metadata": {},
     "output_type": "execute_result"
    }
   ],
   "source": [
    "df.select_dtypes(include=\"object\")"
   ]
  },
  {
   "cell_type": "markdown",
   "id": "1624c7a9",
   "metadata": {},
   "source": [
    "\"Credit_Score\" 는 값 종류가 3개라 열3개로 만들어주지 말고 0,1,2로 대체"
   ]
  },
  {
   "cell_type": "code",
   "execution_count": 173,
   "id": "6efed727",
   "metadata": {},
   "outputs": [
    {
     "data": {
      "text/plain": [
       "Standard    53174\n",
       "Poor        28998\n",
       "Good        17828\n",
       "Name: Credit_Score, dtype: int64"
      ]
     },
     "execution_count": 173,
     "metadata": {},
     "output_type": "execute_result"
    }
   ],
   "source": [
    "df['Credit_Score'].value_counts()"
   ]
  },
  {
   "cell_type": "code",
   "execution_count": 174,
   "id": "e10cfca2",
   "metadata": {},
   "outputs": [],
   "source": [
    "m = {\n",
    "    \"Poor\":0,\n",
    "    \"Standard\":1,\n",
    "    \"Good\":2\n",
    "}\n",
    "\n",
    "df['Credit_Score'] = df['Credit_Score'].map(m)"
   ]
  },
  {
   "cell_type": "markdown",
   "id": "d145c566",
   "metadata": {},
   "source": [
    "나머지 범주형 행에 대해서는 getdummies로 한 번에 바꾸기"
   ]
  },
  {
   "cell_type": "code",
   "execution_count": 175,
   "id": "09d7dcc5",
   "metadata": {},
   "outputs": [
    {
     "name": "stdout",
     "output_type": "stream",
     "text": [
      "<class 'pandas.core.frame.DataFrame'>\n",
      "RangeIndex: 100000 entries, 0 to 99999\n",
      "Data columns (total 54 columns):\n",
      " #   Column                                              Non-Null Count   Dtype  \n",
      "---  ------                                              --------------   -----  \n",
      " 0   Age                                                 100000 non-null  float64\n",
      " 1   Annual_Income                                       100000 non-null  float64\n",
      " 2   Monthly_Inhand_Salary                               100000 non-null  float64\n",
      " 3   Num_Bank_Accounts                                   100000 non-null  float64\n",
      " 4   Num_Credit_Card                                     100000 non-null  float64\n",
      " 5   Interest_Rate                                       100000 non-null  float64\n",
      " 6   Num_of_Loan                                         100000 non-null  float64\n",
      " 7   Delay_from_due_date                                 100000 non-null  float64\n",
      " 8   Num_of_Delayed_Payment                              100000 non-null  float64\n",
      " 9   Changed_Credit_Limit                                100000 non-null  float64\n",
      " 10  Num_Credit_Inquiries                                100000 non-null  float64\n",
      " 11  Credit_Mix                                          100000 non-null  float64\n",
      " 12  Outstanding_Debt                                    100000 non-null  float64\n",
      " 13  Credit_Utilization_Ratio                            100000 non-null  float64\n",
      " 14  Credit_History_Age                                  100000 non-null  float64\n",
      " 15  Total_EMI_per_month                                 100000 non-null  float64\n",
      " 16  Amount_invested_monthly                             100000 non-null  float64\n",
      " 17  Monthly_Balance                                     100000 non-null  float64\n",
      " 18  Credit_Score                                        100000 non-null  int64  \n",
      " 19  Credit-Builder Loan                                 100000 non-null  float64\n",
      " 20  Personal Loan                                       100000 non-null  float64\n",
      " 21  Debt Consolidation Loan                             100000 non-null  float64\n",
      " 22  Student Loan                                        100000 non-null  float64\n",
      " 23  Payday Loan                                         100000 non-null  float64\n",
      " 24  Mortgage Loan                                       100000 non-null  float64\n",
      " 25  Auto Loan                                           100000 non-null  float64\n",
      " 26  Home Equity Loan                                    100000 non-null  float64\n",
      " 27  Month_August                                        100000 non-null  uint8  \n",
      " 28  Month_February                                      100000 non-null  uint8  \n",
      " 29  Month_January                                       100000 non-null  uint8  \n",
      " 30  Month_July                                          100000 non-null  uint8  \n",
      " 31  Month_June                                          100000 non-null  uint8  \n",
      " 32  Month_March                                         100000 non-null  uint8  \n",
      " 33  Month_May                                           100000 non-null  uint8  \n",
      " 34  Occupation_Architect                                100000 non-null  uint8  \n",
      " 35  Occupation_Developer                                100000 non-null  uint8  \n",
      " 36  Occupation_Doctor                                   100000 non-null  uint8  \n",
      " 37  Occupation_Engineer                                 100000 non-null  uint8  \n",
      " 38  Occupation_Entrepreneur                             100000 non-null  uint8  \n",
      " 39  Occupation_Journalist                               100000 non-null  uint8  \n",
      " 40  Occupation_Lawyer                                   100000 non-null  uint8  \n",
      " 41  Occupation_Manager                                  100000 non-null  uint8  \n",
      " 42  Occupation_Mechanic                                 100000 non-null  uint8  \n",
      " 43  Occupation_Media_Manager                            100000 non-null  uint8  \n",
      " 44  Occupation_Musician                                 100000 non-null  uint8  \n",
      " 45  Occupation_Scientist                                100000 non-null  uint8  \n",
      " 46  Occupation_Teacher                                  100000 non-null  uint8  \n",
      " 47  Occupation_Writer                                   100000 non-null  uint8  \n",
      " 48  Payment_of_Min_Amount_Yes                           100000 non-null  uint8  \n",
      " 49  Payment_Behaviour_High_spent_Medium_value_payments  100000 non-null  uint8  \n",
      " 50  Payment_Behaviour_High_spent_Small_value_payments   100000 non-null  uint8  \n",
      " 51  Payment_Behaviour_Low_spent_Large_value_payments    100000 non-null  uint8  \n",
      " 52  Payment_Behaviour_Low_spent_Medium_value_payments   100000 non-null  uint8  \n",
      " 53  Payment_Behaviour_Low_spent_Small_value_payments    100000 non-null  uint8  \n",
      "dtypes: float64(26), int64(1), uint8(27)\n",
      "memory usage: 23.2 MB\n"
     ]
    }
   ],
   "source": [
    "df = pd.get_dummies(df,drop_first=True)\n",
    "df.info()"
   ]
  },
  {
   "cell_type": "markdown",
   "id": "c3c09b67",
   "metadata": {},
   "source": [
    "# 5. 데이터 확인 및 저장"
   ]
  },
  {
   "cell_type": "code",
   "execution_count": null,
   "id": "916a6413",
   "metadata": {},
   "outputs": [],
   "source": [
    "df.describe()"
   ]
  },
  {
   "cell_type": "code",
   "execution_count": 176,
   "id": "d43b8b96",
   "metadata": {},
   "outputs": [],
   "source": [
    "df.to_csv(\"./csv/Preprocessed_Data.csv\") #로 csv추출 가능"
   ]
  },
  {
   "cell_type": "markdown",
   "id": "42d7b7ec",
   "metadata": {},
   "source": [
    "전처리 끝!\n",
    "---"
   ]
  },
  {
   "cell_type": "markdown",
   "id": "2d73fa6c",
   "metadata": {},
   "source": [
    "---"
   ]
  }
 ],
 "metadata": {
  "kernelspec": {
   "display_name": "Python 3.8.5 ('base')",
   "language": "python",
   "name": "python3"
  },
  "language_info": {
   "codemirror_mode": {
    "name": "ipython",
    "version": 3
   },
   "file_extension": ".py",
   "mimetype": "text/x-python",
   "name": "python",
   "nbconvert_exporter": "python",
   "pygments_lexer": "ipython3",
   "version": "3.8.5"
  },
  "toc": {
   "base_numbering": 1,
   "nav_menu": {},
   "number_sections": true,
   "sideBar": true,
   "skip_h1_title": true,
   "title_cell": "Table of Contents",
   "title_sidebar": "Contents",
   "toc_cell": false,
   "toc_position": {
    "height": "calc(100% - 180px)",
    "left": "10px",
    "top": "150px",
    "width": "196px"
   },
   "toc_section_display": true,
   "toc_window_display": true
  },
  "vscode": {
   "interpreter": {
    "hash": "c97f18ea1c0f4969cf594a5df9f14ba2a838cf106fc5300ddecce29d9d6f0c71"
   }
  }
 },
 "nbformat": 4,
 "nbformat_minor": 5
}
